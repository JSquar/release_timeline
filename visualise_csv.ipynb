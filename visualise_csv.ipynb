{
 "cells": [
  {
   "cell_type": "code",
   "execution_count": null,
   "metadata": {},
   "outputs": [],
   "source": [
    "# Quelle für Releases: https://releases.llvm.org/\n",
    "import matplotlib.pyplot as plt\n",
    "import pandas as pd\n",
    "from pathlib import Path\n",
    "import logging\n",
    "import semver\n",
    "import datetime\n",
    "import re\n",
    "import numpy as np\n",
    "import matplotlib.dates as mdates\n",
    "\n",
    "input_file=Path(\"website_versions.csv\")\n",
    "assert input_file.exists()"
   ]
  },
  {
   "cell_type": "code",
   "execution_count": null,
   "metadata": {},
   "outputs": [],
   "source": [
    "df = pd.read_csv(input_file)\n",
    "# patch version in semver is only optional beginning with version 3, but there is no official release yet. Therefore missing patch versions will be set to 0\n",
    "modified_versions = df.Version.apply(lambda x: x if re.match(\"\\d+\\.\\d+\\.\\d+\",x) else x + \".0\")\n",
    "df.Version = modified_versions.apply(semver.VersionInfo.parse)\n",
    "df.Date= pd.to_datetime(df.Date)\n",
    "df.head()"
   ]
  },
  {
   "cell_type": "code",
   "execution_count": null,
   "metadata": {},
   "outputs": [],
   "source": [
    "df.describe()"
   ]
  },
  {
   "cell_type": "code",
   "execution_count": null,
   "metadata": {},
   "outputs": [],
   "source": [
    "# Choose some nice levels\n",
    "# Source: https://matplotlib.org/3.1.0/gallery/lines_bars_and_markers/timeline.html\n",
    "levels = np.tile([-5, 5, -3, 3, -1, 1],\n",
    "                 int(np.ceil(len(df.Version)/6)))[:len(df.Version)]\n"
   ]
  },
  {
   "cell_type": "code",
   "execution_count": null,
   "metadata": {},
   "outputs": [],
   "source": [
    "levels2=[]\n",
    "for version in df.Version:\n",
    "    if version.minor == 0 and version.patch == 0:\n",
    "        levels2.append(5)\n",
    "    elif version.patch == 0:\n",
    "        levels2.append(-5)\n",
    "    else:\n",
    "        levels2.append(-3)"
   ]
  },
  {
   "cell_type": "code",
   "execution_count": null,
   "metadata": {},
   "outputs": [],
   "source": [
    "list(df.Version.groupby(by=(lambda x: df.Version.iloc[x].major)))"
   ]
  },
  {
   "cell_type": "code",
   "execution_count": null,
   "metadata": {},
   "outputs": [],
   "source": [
    "df.Version.iloc[0].major"
   ]
  },
  {
   "cell_type": "code",
   "execution_count": null,
   "metadata": {},
   "outputs": [],
   "source": [
    "\n",
    "# Create figure and plot a stem plot with the date\n",
    "fig, ax = plt.subplots(figsize=(8.8, 4), constrained_layout=True)\n",
    "ax.set(title=\"LLVM release dates\")\n",
    "\n",
    "markerline, stemline, baseline = ax.stem(df.Date, levels2,\n",
    "                                         linefmt=\"C3-\", basefmt=\"k-\",\n",
    "                                         use_line_collection=True)\n",
    "\n",
    "plt.setp(markerline, mec=\"k\", mfc=\"w\", zorder=3)\n",
    "\n",
    "# Shift the markers to the baseline by replacing the y-data by zeros.\n",
    "#markerline.set_ydata(np.zeros(len(df.Version)))\n",
    "\n",
    "# annotate lines\n",
    "# vert = np.array(['top', 'bottom'])[(levels > 0).astype(int)]\n",
    "# for d, l, r, va in zip(df.Date, levels, df.Version, vert):\n",
    "#     ax.annotate(r, xy=(d, l), xytext=(-3, np.sign(l)*3),\n",
    "#                 textcoords=\"offset points\", va=va, ha=\"right\")\n",
    "\n",
    "# format xaxis with 4 month intervals\n",
    "# ax.get_xaxis().set_major_locator(mdates.MonthLocator(interval=12))\n",
    "ax.get_xaxis().set_major_locator(mdates.YearLocator())\n",
    "ax.get_xaxis().set_major_formatter(mdates.DateFormatter(\"%b %Y\"))\n",
    "plt.setp(ax.get_xticklabels(), rotation=30, ha=\"right\")\n",
    "\n",
    "# remove y axis and spines\n",
    "ax.get_yaxis().set_visible(False)\n",
    "for spine in [\"left\", \"top\", \"right\"]:\n",
    "    ax.spines[spine].set_visible(False)\n",
    "\n",
    "ax.margins(y=0.1)"
   ]
  },
  {
   "cell_type": "code",
   "execution_count": null,
   "metadata": {},
   "outputs": [],
   "source": []
  },
  {
   "cell_type": "code",
   "execution_count": null,
   "metadata": {},
   "outputs": [],
   "source": [
    "levels"
   ]
  }
 ],
 "metadata": {
  "kernelspec": {
   "display_name": "Python 3",
   "language": "python",
   "name": "python3"
  },
  "language_info": {
   "codemirror_mode": {
    "name": "ipython",
    "version": 3
   },
   "file_extension": ".py",
   "mimetype": "text/x-python",
   "name": "python",
   "nbconvert_exporter": "python",
   "pygments_lexer": "ipython3",
   "version": "3.10.10"
  }
 },
 "nbformat": 4,
 "nbformat_minor": 2
}
