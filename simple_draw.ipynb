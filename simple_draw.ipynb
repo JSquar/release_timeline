{
 "cells": [
  {
   "cell_type": "code",
   "execution_count": null,
   "metadata": {},
   "outputs": [],
   "source": [
    "import matplotlib.pyplot as plt\n",
    "import numpy as np\n",
    "import matplotlib.dates as mdates\n",
    "from datetime import datetime\n",
    "\n",
    "try:\n",
    "    # Try to fetch a list of Matplotlib releases and their dates\n",
    "    # from https://api.github.com/repos/matplotlib/matplotlib/releases\n",
    "    import urllib.request\n",
    "    import json\n",
    "\n",
    "    url = 'https://api.github.com/repos/llvm//releases'\n",
    "    url += '?per_page=100'\n",
    "    data = json.loads(urllib.request.urlopen(url, timeout=.4).read().decode())\n",
    "\n",
    "    dates = []\n",
    "    names = []\n",
    "    for item in data:\n",
    "        if 'rc' not in item['tag_name'] and 'b' not in item['tag_name']:\n",
    "            dates.append(item['published_at'].split(\"T\")[0])\n",
    "            names.append(item['tag_name'])\n",
    "    # Convert date strings (e.g. 2014-10-18) to datetime\n",
    "    dates = [datetime.strptime(d, \"%Y-%m-%d\") for d in dates]"
   ]
  }
 ],
 "metadata": {
  "language_info": {
   "name": "python"
  }
 },
 "nbformat": 4,
 "nbformat_minor": 2
}
